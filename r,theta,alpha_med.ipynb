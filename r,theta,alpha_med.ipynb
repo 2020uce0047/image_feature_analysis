{
  "nbformat": 4,
  "nbformat_minor": 0,
  "metadata": {
    "colab": {
      "provenance": []
    },
    "kernelspec": {
      "name": "python3",
      "display_name": "Python 3"
    },
    "language_info": {
      "name": "python"
    }
  },
  "cells": [
    {
      "cell_type": "code",
      "execution_count": null,
      "metadata": {
        "id": "3XQbG_gI1xYG"
      },
      "outputs": [],
      "source": [
        "from google.colab import drive\n",
        "drive.mount('/content/drive')"
      ]
    },
    {
      "cell_type": "code",
      "source": [
        "import cv2\n",
        "import sys\n",
        "from os import listdir, walk\n",
        "from os.path import isfile, join \n",
        "import pandas as pd\n",
        "import numpy as np\n",
        "import random\n",
        "import imageio\n",
        "from PIL import Image"
      ],
      "metadata": {
        "id": "tdIiJlRh6glU"
      },
      "execution_count": null,
      "outputs": []
    },
    {
      "cell_type": "code",
      "source": [
        "PATH = '/content/drive/MyDrive/TIFF_IMAGE/'"
      ],
      "metadata": {
        "id": "ZJWmKK0qoq8X"
      },
      "execution_count": null,
      "outputs": []
    },
    {
      "cell_type": "code",
      "source": [
        "x = np.array(np.linspace(50,200,31),dtype='int')\n",
        "saft_img_files = []\n",
        "for i in x:\n",
        "  for j in x:\n",
        "    saft_img_files.append(f'SAFT_{i},{j}.tiff')"
      ],
      "metadata": {
        "id": "HSbjYQLdptDx"
      },
      "execution_count": null,
      "outputs": []
    },
    {
      "cell_type": "code",
      "source": [
        "med_img_files = []\n",
        "for i in x:\n",
        "  for j in x:\n",
        "    med_img_files.append(f'MED_{i},{j}.tiff')"
      ],
      "metadata": {
        "id": "Cd3GFc09pnYg"
      },
      "execution_count": null,
      "outputs": []
    },
    {
      "cell_type": "code",
      "source": [],
      "metadata": {
        "id": "cXT7OkpopVN8"
      },
      "execution_count": null,
      "outputs": []
    },
    {
      "cell_type": "code",
      "source": [
        "med_img_array"
      ],
      "metadata": {
        "id": "V89lAScKrURm"
      },
      "execution_count": null,
      "outputs": []
    },
    {
      "cell_type": "code",
      "source": [
        "y = []\n",
        "for i in x:\n",
        "  for j in x:\n",
        "    y.append([j,i])"
      ],
      "metadata": {
        "id": "XhzKr8yrsAHE"
      },
      "execution_count": null,
      "outputs": []
    },
    {
      "cell_type": "code",
      "source": [
        "crop_img.shape"
      ],
      "metadata": {
        "colab": {
          "base_uri": "https://localhost:8080/"
        },
        "id": "nlOFjszItTL3",
        "outputId": "6453d7ac-02eb-4305-c56e-0b0b025dccf0"
      },
      "execution_count": null,
      "outputs": [
        {
          "output_type": "execute_result",
          "data": {
            "text/plain": [
              "(425, 678, 3)"
            ]
          },
          "metadata": {},
          "execution_count": 23
        }
      ]
    },
    {
      "cell_type": "code",
      "source": [
        "import math"
      ],
      "metadata": {
        "id": "xLCjL5UvzXF2"
      },
      "execution_count": null,
      "outputs": []
    },
    {
      "cell_type": "code",
      "source": [
        "def find_parameters():\n",
        "  r = []\n",
        "  theta = []\n",
        "  alpha = []\n",
        "  ref_point = 678/2\n",
        "  for k in range(len(med_img_files)):\n",
        "    if(isfile(PATH + med_img_files[i])==True):\n",
        "      med_img = Image.open(PATH + med_img_files[k])\n",
        "      med_img_array = np.array(med_img)\n",
        "      crop_img = med_img_array[104:529, 114:792, :]\n",
        "      arr = []\n",
        "      max = 0\n",
        "      for i in range(crop_img.shape[1]):\n",
        "        for j in range(crop_img.shape[0]):\n",
        "          if(crop_img[j][i][0]!=0):\n",
        "            arr.append([i,j])\n",
        "            break\n",
        "      xA = (arr[0][0]+arr[-1][0])/2\n",
        "      yA = arr[0][1]\n",
        "      radius = (((xA-ref_point)**2)+(yA**2))**(1/2)\n",
        "      r.append(radius)\n",
        "      incln = (arr[-1][1]-arr[0][1])/(arr[-1][0]-arr[0][0])\n",
        "      alpha.append(incln)\n",
        "      th = math.atan((xA-ref_point)/yA)\n",
        "      theta.append(th)\n",
        "    data = pd.DataFrame({'r':r, 'theta': theta, 'alpha':alpha})\n",
        "    return data\n",
        "\n",
        "# crop_img[y[0][0]-20:y[0][0]+20, :, :]"
      ],
      "metadata": {
        "id": "1UZJK7bHpaEf"
      },
      "execution_count": null,
      "outputs": []
    },
    {
      "cell_type": "code",
      "source": [
        "data = find_parameters()"
      ],
      "metadata": {
        "id": "8AjNyEgJvkn5"
      },
      "execution_count": null,
      "outputs": []
    },
    {
      "cell_type": "code",
      "source": [
        "data.to_csv('data.csv')"
      ],
      "metadata": {
        "id": "0LU2zbgo0Vwy"
      },
      "execution_count": null,
      "outputs": []
    },
    {
      "cell_type": "code",
      "source": [
        "from google.colab import files\n",
        "files.download(\"data.csv\")"
      ],
      "metadata": {
        "id": "bn7yo59Z0RvP"
      },
      "execution_count": null,
      "outputs": []
    }
  ]
}